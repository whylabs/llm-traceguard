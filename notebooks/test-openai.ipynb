{
 "cells": [
  {
   "cell_type": "code",
   "execution_count": 12,
   "metadata": {},
   "outputs": [
    {
     "name": "stdout",
     "output_type": "stream",
     "text": [
      "The autoreload extension is already loaded. To reload it, use:\n",
      "  %reload_ext autoreload\n"
     ]
    }
   ],
   "source": [
    "%load_ext autoreload\n",
    "%autoreload 2"
   ]
  },
  {
   "cell_type": "code",
   "execution_count": 13,
   "metadata": {},
   "outputs": [],
   "source": [
    "import openai"
   ]
  },
  {
   "cell_type": "code",
   "execution_count": 14,
   "metadata": {},
   "outputs": [
    {
     "name": "stderr",
     "output_type": "stream",
     "text": [
      "Try to instruments. None\n"
     ]
    }
   ],
   "source": [
    "from llm_traceguard.openai.tracer import OpenAIInstrumentor\n",
    "OpenAIInstrumentor()._instrument()"
   ]
  },
  {
   "cell_type": "code",
   "execution_count": 15,
   "metadata": {},
   "outputs": [
    {
     "data": {
      "text/plain": [
       "'0.28.1'"
      ]
     },
     "execution_count": 15,
     "metadata": {},
     "output_type": "execute_result"
    }
   ],
   "source": [
    "openai.__version__"
   ]
  },
  {
   "cell_type": "code",
   "execution_count": 23,
   "metadata": {},
   "outputs": [],
   "source": [
    "import logging\n",
    "logging.basicConfig()\n",
    "logger = logging.getLogger()\n",
    "logger.setLevel(logging.INFO)"
   ]
  },
  {
   "cell_type": "code",
   "execution_count": 16,
   "metadata": {
    "collapsed": false,
    "jupyter": {
     "outputs_hidden": false
    },
    "pycharm": {
     "name": "#%%\n"
    }
   },
   "outputs": [],
   "source": [
    "import os\n",
    "\n",
    "os.environ[\"OPENAI_API_KEY\"] = \"\""
   ]
  },
  {
   "cell_type": "code",
   "execution_count": 17,
   "metadata": {},
   "outputs": [],
   "source": [
    "import openai\n",
    "openai.api_key =  \"\"\n"
   ]
  },
  {
   "cell_type": "code",
   "execution_count": 21,
   "metadata": {},
   "outputs": [
    {
     "name": "stderr",
     "output_type": "stream",
     "text": [
      "Request: openai.ChatCompletion\n",
      "kwargs: {'model': 'gpt-3.5-turbo', 'messages': [{'role': 'user', 'content': 'Hello world'}]}\n",
      "LLMRequestTypeValues.CHAT\n",
      "Request: openai.ChatCompletion\n",
      "kwargs: {'model': 'gpt-3.5-turbo', 'messages': [{'role': 'user', 'content': 'Hello world'}]}\n",
      "LLMRequestTypeValues.CHAT\n"
     ]
    },
    {
     "name": "stdout",
     "output_type": "stream",
     "text": [
      "Request: openai.ChatCompletion\n",
      "kwargs: {'model': 'gpt-3.5-turbo', 'messages': [{'role': 'user', 'content': 'Hello world'}]}\n",
      "LLMRequestTypeValues.CHAT\n",
      "Request: openai.ChatCompletion\n",
      "kwargs: {'model': 'gpt-3.5-turbo', 'messages': [{'role': 'user', 'content': 'Hello world'}]}\n",
      "LLMRequestTypeValues.CHAT\n"
     ]
    },
    {
     "name": "stderr",
     "output_type": "stream",
     "text": [
      "Response type: openai.openai_object.OpenAIObject\n",
      "Response type: openai.openai_object.OpenAIObject\n"
     ]
    },
    {
     "name": "stdout",
     "output_type": "stream",
     "text": [
      "Response type: openai.openai_object.OpenAIObject\n",
      "Response type: openai.openai_object.OpenAIObject\n",
      "<class 'openai.openai_object.OpenAIObject'>\n",
      "<class 'str'>\n",
      "<class 'str'>\n",
      "<class 'str'>\n",
      "<class 'str'>\n",
      "<class 'str'>\n",
      "<class 'str'>\n",
      "<class 'str'>\n"
     ]
    }
   ],
   "source": [
    "completion = openai.ChatCompletion.create(model=\"gpt-3.5-turbo\", messages=[{\"role\": \"user\", \"content\": \"Hello world\"}])\n",
    "\n",
    "print(type(completion))\n",
    "for c in completion:\n",
    "    print(type(c))\n"
   ]
  },
  {
   "cell_type": "code",
   "execution_count": 19,
   "metadata": {},
   "outputs": [],
   "source": [
    "from llm_traceguard.openai.tracer import OpenAIInstrumentor"
   ]
  },
  {
   "cell_type": "code",
   "execution_count": 20,
   "metadata": {},
   "outputs": [
    {
     "name": "stderr",
     "output_type": "stream",
     "text": [
      "Try to instruments. None\n"
     ]
    }
   ],
   "source": [
    "OpenAIInstrumentor()._instrument()"
   ]
  },
  {
   "cell_type": "code",
   "execution_count": 24,
   "metadata": {},
   "outputs": [
    {
     "name": "stderr",
     "output_type": "stream",
     "text": [
      "WARNING:llm_traceguard.openai.tracer:Request: openai.ChatCompletion\n",
      "WARNING:llm_traceguard.openai.tracer:kwargs: {'model': 'gpt-3.5-turbo', 'messages': [{'role': 'user', 'content': 'Hello world'}]}\n",
      "WARNING:llm_traceguard.openai.tracer:LLMRequestTypeValues.CHAT\n",
      "WARNING:llm_traceguard.openai.tracer:Request: openai.ChatCompletion\n",
      "WARNING:llm_traceguard.openai.tracer:kwargs: {'model': 'gpt-3.5-turbo', 'messages': [{'role': 'user', 'content': 'Hello world'}]}\n",
      "WARNING:llm_traceguard.openai.tracer:LLMRequestTypeValues.CHAT\n"
     ]
    },
    {
     "name": "stdout",
     "output_type": "stream",
     "text": [
      "Request: openai.ChatCompletion\n",
      "kwargs: {'model': 'gpt-3.5-turbo', 'messages': [{'role': 'user', 'content': 'Hello world'}]}\n",
      "LLMRequestTypeValues.CHAT\n",
      "Request: openai.ChatCompletion\n",
      "kwargs: {'model': 'gpt-3.5-turbo', 'messages': [{'role': 'user', 'content': 'Hello world'}]}\n",
      "LLMRequestTypeValues.CHAT\n"
     ]
    },
    {
     "name": "stderr",
     "output_type": "stream",
     "text": [
      "WARNING:llm_traceguard.openai.tracer:Response type: openai.openai_object.OpenAIObject\n",
      "WARNING:llm_traceguard.openai.tracer:Response type: openai.openai_object.OpenAIObject\n"
     ]
    },
    {
     "name": "stdout",
     "output_type": "stream",
     "text": [
      "Response type: openai.openai_object.OpenAIObject\n",
      "Response type: openai.openai_object.OpenAIObject\n"
     ]
    }
   ],
   "source": [
    "completion = openai.ChatCompletion.create(model=\"gpt-3.5-turbo\", messages=[{\"role\": \"user\", \"content\": \"Hello world\"}])\n"
   ]
  },
  {
   "cell_type": "code",
   "execution_count": null,
   "metadata": {},
   "outputs": [],
   "source": []
  }
 ],
 "metadata": {
  "kernelspec": {
   "display_name": "Python 3 (ipykernel)",
   "language": "python",
   "name": "python3"
  },
  "language_info": {
   "codemirror_mode": {
    "name": "ipython",
    "version": 3
   },
   "file_extension": ".py",
   "mimetype": "text/x-python",
   "name": "python",
   "nbconvert_exporter": "python",
   "pygments_lexer": "ipython3",
   "version": "3.9.7"
  }
 },
 "nbformat": 4,
 "nbformat_minor": 4
}